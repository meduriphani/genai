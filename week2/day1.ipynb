{
 "cells": [
  {
   "cell_type": "markdown",
   "id": "06cf3063-9f3e-4551-a0d5-f08d9cabb927",
   "metadata": {},
   "source": [
    "# Welcome to Week 2!\n",
    "\n",
    "## Frontier Model APIs\n",
    "\n",
    "In Week 1, we used multiple Frontier LLMs through their Chat UI, and we connected with the OpenAI's API.\n",
    "\n",
    "Today we'll connect with the APIs for Anthropic and Google, as well as OpenAI."
   ]
  },
  {
   "cell_type": "markdown",
   "id": "2b268b6e-0ba4-461e-af86-74a41f4d681f",
   "metadata": {},
   "source": [
    "<table style=\"margin: 0; text-align: left;\">\n",
    "    <tr>\n",
    "        <td style=\"width: 150px; height: 150px; vertical-align: middle;\">\n",
    "            <img src=\"../important.jpg\" width=\"150\" height=\"150\" style=\"display: block;\" />\n",
    "        </td>\n",
    "        <td>\n",
    "            <h2 style=\"color:#900;\">Important Note - Please read me</h2>\n",
    "            <span style=\"color:#900;\">I'm continually improving these labs, adding more examples and exercises.\n",
    "            At the start of each week, it's worth checking you have the latest code.<br/>\n",
    "            First do a <a href=\"https://chatgpt.com/share/6734e705-3270-8012-a074-421661af6ba9\">git pull and merge your changes as needed</a>. Any problems? Try asking ChatGPT to clarify how to merge - or contact me!<br/><br/>\n",
    "            After you've pulled the code, from the llm_engineering directory, in an Anaconda prompt (PC) or Terminal (Mac), run:<br/>\n",
    "            <code>conda env update --f environment.yml</code><br/>\n",
    "            Or if you used virtualenv rather than Anaconda, then run this from your activated environment in a Powershell (PC) or Terminal (Mac):<br/>\n",
    "            <code>pip install -r requirements.txt</code>\n",
    "            <br/>Then restart the kernel (Kernel menu >> Restart Kernel and Clear Outputs Of All Cells) to pick up the changes.\n",
    "            </span>\n",
    "        </td>\n",
    "    </tr>\n",
    "</table>\n",
    "<table style=\"margin: 0; text-align: left;\">\n",
    "    <tr>\n",
    "        <td style=\"width: 150px; height: 150px; vertical-align: middle;\">\n",
    "            <img src=\"../resources.jpg\" width=\"150\" height=\"150\" style=\"display: block;\" />\n",
    "        </td>\n",
    "        <td>\n",
    "            <h2 style=\"color:#f71;\">Reminder about the resources page</h2>\n",
    "            <span style=\"color:#f71;\">Here's a link to resources for the course. This includes links to all the slides.<br/>\n",
    "            <a href=\"https://edwarddonner.com/2024/11/13/llm-engineering-resources/\">https://edwarddonner.com/2024/11/13/llm-engineering-resources/</a><br/>\n",
    "            Please keep this bookmarked, and I'll continue to add more useful links there over time.\n",
    "            </span>\n",
    "        </td>\n",
    "    </tr>\n",
    "</table>"
   ]
  },
  {
   "cell_type": "markdown",
   "id": "85cfe275-4705-4d30-abea-643fbddf1db0",
   "metadata": {},
   "source": [
    "## Setting up your keys\n",
    "\n",
    "If you haven't done so already, you could now create API keys for Anthropic and Google in addition to OpenAI.\n",
    "\n",
    "**Please note:** if you'd prefer to avoid extra API costs, feel free to skip setting up Anthopic and Google! You can see me do it, and focus on OpenAI for the course. You could also substitute Anthropic and/or Google for Ollama, using the exercise you did in week 1.\n",
    "\n",
    "For OpenAI, visit https://openai.com/api/  \n",
    "For Anthropic, visit https://console.anthropic.com/  \n",
    "For Google, visit https://ai.google.dev/gemini-api  \n",
    "\n",
    "### Also - adding DeepSeek if you wish\n",
    "\n",
    "Optionally, if you'd like to also use DeepSeek, create an account [here](https://platform.deepseek.com/), create a key [here](https://platform.deepseek.com/api_keys) and top up with at least the minimum $2 [here](https://platform.deepseek.com/top_up).\n",
    "\n",
    "### Adding API keys to your .env file\n",
    "\n",
    "When you get your API keys, you need to set them as environment variables by adding them to your `.env` file.\n",
    "\n",
    "```\n",
    "OPENAI_API_KEY=xxxx\n",
    "ANTHROPIC_API_KEY=xxxx\n",
    "GOOGLE_API_KEY=xxxx\n",
    "DEEPSEEK_API_KEY=xxxx\n",
    "```\n",
    "\n",
    "Afterwards, you may need to restart the Jupyter Lab Kernel (the Python process that sits behind this notebook) via the Kernel menu, and then rerun the cells from the top."
   ]
  },
  {
   "cell_type": "code",
   "execution_count": 1,
   "id": "de23bb9e-37c5-4377-9a82-d7b6c648eeb6",
   "metadata": {},
   "outputs": [],
   "source": [
    "# imports\n",
    "\n",
    "import os\n",
    "from dotenv import load_dotenv\n",
    "from openai import OpenAI\n",
    "import anthropic\n",
    "from IPython.display import Markdown, display, update_display"
   ]
  },
  {
   "cell_type": "code",
   "execution_count": 2,
   "id": "f0a8ab2b-6134-4104-a1bc-c3cd7ea4cd36",
   "metadata": {},
   "outputs": [],
   "source": [
    "# import for google\n",
    "# in rare cases, this seems to give an error on some systems, or even crashes the kernel\n",
    "# If this happens to you, simply ignore this cell - I give an alternative approach for using Gemini later\n",
    "\n",
    "import google.generativeai"
   ]
  },
  {
   "cell_type": "code",
   "execution_count": 3,
   "id": "1179b4c5-cd1f-4131-a876-4c9f3f38d2ba",
   "metadata": {},
   "outputs": [
    {
     "name": "stdout",
     "output_type": "stream",
     "text": [
      "OpenAI API Key exists and begins sk-proj-\n",
      "Anthropic API Key exists and begins sk-ant-\n",
      "Google API Key exists and begins AIzaSyBw\n"
     ]
    }
   ],
   "source": [
    "# Load environment variables in a file called .env\n",
    "# Print the key prefixes to help with any debugging\n",
    "\n",
    "load_dotenv(override=True)\n",
    "openai_api_key = os.getenv('OPENAI_API_KEY')\n",
    "anthropic_api_key = os.getenv('ANTHROPIC_API_KEY')\n",
    "google_api_key = os.getenv('GOOGLE_API_KEY')\n",
    "\n",
    "if openai_api_key:\n",
    "    print(f\"OpenAI API Key exists and begins {openai_api_key[:8]}\")\n",
    "else:\n",
    "    print(\"OpenAI API Key not set\")\n",
    "    \n",
    "if anthropic_api_key:\n",
    "    print(f\"Anthropic API Key exists and begins {anthropic_api_key[:7]}\")\n",
    "else:\n",
    "    print(\"Anthropic API Key not set\")\n",
    "\n",
    "if google_api_key:\n",
    "    print(f\"Google API Key exists and begins {google_api_key[:8]}\")\n",
    "else:\n",
    "    print(\"Google API Key not set\")"
   ]
  },
  {
   "cell_type": "code",
   "execution_count": 4,
   "id": "797fe7b0-ad43-42d2-acf0-e4f309b112f0",
   "metadata": {},
   "outputs": [],
   "source": [
    "# Connect to OpenAI, Anthropic\n",
    "\n",
    "openai = OpenAI()\n",
    "\n",
    "claude = anthropic.Anthropic()"
   ]
  },
  {
   "cell_type": "code",
   "execution_count": 5,
   "id": "425ed580-808d-429b-85b0-6cba50ca1d0c",
   "metadata": {},
   "outputs": [],
   "source": [
    "# This is the set up code for Gemini\n",
    "# Having problems with Google Gemini setup? Then just ignore this cell; when we use Gemini, I'll give you an alternative that bypasses this library altogether\n",
    "\n",
    "google.generativeai.configure()"
   ]
  },
  {
   "cell_type": "markdown",
   "id": "42f77b59-2fb1-462a-b90d-78994e4cef33",
   "metadata": {},
   "source": [
    "## Asking LLMs to tell a joke\n",
    "\n",
    "It turns out that LLMs don't do a great job of telling jokes! Let's compare a few models.\n",
    "Later we will be putting LLMs to better use!\n",
    "\n",
    "### What information is included in the API\n",
    "\n",
    "Typically we'll pass to the API:\n",
    "- The name of the model that should be used\n",
    "- A system message that gives overall context for the role the LLM is playing\n",
    "- A user message that provides the actual prompt\n",
    "\n",
    "There are other parameters that can be used, including **temperature** which is typically between 0 and 1; higher for more random output; lower for more focused and deterministic."
   ]
  },
  {
   "cell_type": "code",
   "execution_count": 6,
   "id": "378a0296-59a2-45c6-82eb-941344d3eeff",
   "metadata": {},
   "outputs": [],
   "source": [
    "system_message = \"You are an assistant that is great at telling jokes\"\n",
    "user_prompt = \"Tell a light-hearted joke for an audience of Data Scientists\""
   ]
  },
  {
   "cell_type": "code",
   "execution_count": 7,
   "id": "f4d56a0f-2a3d-484d-9344-0efa6862aff4",
   "metadata": {},
   "outputs": [],
   "source": [
    "prompts = [\n",
    "    {\"role\": \"system\", \"content\": system_message},\n",
    "    {\"role\": \"user\", \"content\": user_prompt}\n",
    "  ]"
   ]
  },
  {
   "cell_type": "code",
   "execution_count": 8,
   "id": "3b3879b6-9a55-4fed-a18c-1ea2edfaf397",
   "metadata": {},
   "outputs": [
    {
     "name": "stdout",
     "output_type": "stream",
     "text": [
      "Why did the data scientist break up with their calculator? They couldn't count on it for accurate data!\n"
     ]
    }
   ],
   "source": [
    "# GPT-3.5-Turbo\n",
    "\n",
    "completion = openai.chat.completions.create(model='gpt-3.5-turbo', messages=prompts)\n",
    "print(completion.choices[0].message.content)"
   ]
  },
  {
   "cell_type": "code",
   "execution_count": 9,
   "id": "3d2d6beb-1b81-466f-8ed1-40bf51e7adbf",
   "metadata": {},
   "outputs": [
    {
     "name": "stdout",
     "output_type": "stream",
     "text": [
      "Why did the data scientist bring a ladder to work?\n",
      "\n",
      "Because they wanted to work on higher-level data!\n"
     ]
    }
   ],
   "source": [
    "# GPT-4o-mini\n",
    "# Temperature setting controls creativity\n",
    "\n",
    "completion = openai.chat.completions.create(\n",
    "    model='gpt-4o-mini',\n",
    "    messages=prompts,\n",
    "    temperature=0.7\n",
    ")\n",
    "print(completion.choices[0].message.content)"
   ]
  },
  {
   "cell_type": "code",
   "execution_count": 11,
   "id": "f1f54beb-823f-4301-98cb-8b9a49f4ce26",
   "metadata": {},
   "outputs": [
    {
     "name": "stdout",
     "output_type": "stream",
     "text": [
      "Why did the data scientist bring a ladder to work?\n",
      "\n",
      "Because they heard the project had a lot of layers to unravel!\n"
     ]
    }
   ],
   "source": [
    "# GPT-4o\n",
    "\n",
    "completion = openai.chat.completions.create(\n",
    "    model='gpt-4o',\n",
    "    messages=prompts,\n",
    "    temperature=0.4\n",
    ")\n",
    "print(completion.choices[0].message.content)"
   ]
  },
  {
   "cell_type": "code",
   "execution_count": 18,
   "id": "1ecdb506-9f7c-4539-abae-0e78d7f31b76",
   "metadata": {},
   "outputs": [
    {
     "name": "stdout",
     "output_type": "stream",
     "text": [
      "Sure, here's a light-hearted joke for Data Scientists:\n",
      "\n",
      "Why did the data scientist break up with their significant other?\n",
      "\n",
      "There was just too much noise in the relationship, and they couldn't find a significant correlation!\n"
     ]
    }
   ],
   "source": [
    "# Claude 3.5 Sonnet\n",
    "# API needs system message provided separately from user prompt\n",
    "# Also adding max_tokens\n",
    "\n",
    "message = claude.messages.create(\n",
    "    model=\"claude-3-5-sonnet-latest\",\n",
    "    max_tokens=200,\n",
    "    temperature=0.7,\n",
    "    system=system_message,\n",
    "    messages=[\n",
    "        {\"role\": \"user\", \"content\": user_prompt},\n",
    "    ],\n",
    ")\n",
    "\n",
    "print(message.content[0].text)"
   ]
  },
  {
   "cell_type": "code",
   "execution_count": 19,
   "id": "769c4017-4b3b-4e64-8da7-ef4dcbe3fd9f",
   "metadata": {},
   "outputs": [
    {
     "name": "stdout",
     "output_type": "stream",
     "text": [
      "Sure, here's a light-hearted joke for Data Scientists:\n",
      "\n",
      "Why did the data scientist break up with their significant other?\n",
      "\n",
      "Because there was no significant correlation between them!\n",
      "\n",
      "Ba dum tss! 🥁\n",
      "\n",
      "This joke plays on the statistical concept of \"significant correlation\" that data scientists often work with, while also making a pun about relationships. It's a bit nerdy, but should get a chuckle from a data-savvy audience!"
     ]
    }
   ],
   "source": [
    "# Claude 3.5 Sonnet again\n",
    "# Now let's add in streaming back results\n",
    "\n",
    "result = claude.messages.stream(\n",
    "    model=\"claude-3-5-sonnet-latest\",\n",
    "    max_tokens=200,\n",
    "    temperature=0.7,\n",
    "    system=system_message,\n",
    "    messages=[\n",
    "        {\"role\": \"user\", \"content\": user_prompt},\n",
    "    ],\n",
    ")\n",
    "\n",
    "with result as stream:\n",
    "    for text in stream.text_stream:\n",
    "            print(text, end=\"\", flush=True)"
   ]
  },
  {
   "cell_type": "code",
   "execution_count": 15,
   "id": "6df48ce5-70f8-4643-9a50-b0b5bfdb66ad",
   "metadata": {},
   "outputs": [
    {
     "name": "stdout",
     "output_type": "stream",
     "text": [
      "Why was the Data Scientist sad?  Because they didn't get any arrays.\n",
      "\n"
     ]
    }
   ],
   "source": [
    "# The API for Gemini has a slightly different structure.\n",
    "# I've heard that on some PCs, this Gemini code causes the Kernel to crash.\n",
    "# If that happens to you, please skip this cell and use the next cell instead - an alternative approach.\n",
    "\n",
    "gemini = google.generativeai.GenerativeModel(\n",
    "    model_name='gemini-2.0-flash-exp',\n",
    "    system_instruction=system_message\n",
    ")\n",
    "response = gemini.generate_content(user_prompt)\n",
    "print(response.text)"
   ]
  },
  {
   "cell_type": "code",
   "execution_count": 27,
   "id": "49009a30-037d-41c8-b874-127f61c4aa3a",
   "metadata": {},
   "outputs": [
    {
     "name": "stdout",
     "output_type": "stream",
     "text": [
      "## Determining if an LLM is Suitable for Your Business Problem\n",
      "\n",
      "Large Language Models (LLMs) offer powerful capabilities, but they're not a solution for every business problem.  Carefully consider these factors before deciding if an LLM is the right fit:\n",
      "\n",
      "**1. Problem Type:**\n",
      "\n",
      "* **Suitable:**\n",
      "    * **Text-based tasks:** LLMs excel at tasks involving natural language processing, such as text summarization, translation, question answering, content generation (marketing copy, emails, etc.), sentiment analysis, chatbots, and code generation.\n",
      "    * **Data analysis with textual insights:**  LLMs can help extract meaningful insights from unstructured text data, like customer reviews or social media posts.\n",
      "    * **Automation of repetitive textual tasks:**  LLMs can automate tasks that involve processing large volumes of text, freeing up human employees for more complex work.\n",
      "* **Unsuitable:**\n",
      "    * **Problems requiring real-time, low-latency responses:** LLMs can be computationally expensive and slow, making them unsuitable for applications needing immediate responses.\n",
      "    * **Problems requiring precise, verifiable factual information:**  LLMs can sometimes \"hallucinate\" facts, meaning they generate plausible-sounding but incorrect information.  Careful validation and verification are crucial.\n",
      "    * **Tasks requiring physical interaction with the real world:** LLMs operate solely on textual data; they cannot directly interact with the physical environment.\n",
      "    * **Tasks requiring complex reasoning or critical thinking:** While LLMs are improving rapidly, they may struggle with tasks requiring deep understanding of context, nuances, and complex logical reasoning.\n",
      "    * **Problems needing high security or sensitive data protection:**  Care must be taken to protect sensitive data when using LLMs, as they are trained on massive datasets and may inadvertently reveal information.\n",
      "\n",
      "**2. Data Availability:**\n",
      "\n",
      "* **Suitable:**  You have a significant amount of relevant textual data that can be used to train or fine-tune the LLM, or to prompt the LLM effectively.\n",
      "* **Unsuitable:**  You lack sufficient data to effectively train or utilize an LLM.  LLMs require substantial amounts of data to perform well.\n",
      "\n",
      "**3. Cost and Resources:**\n",
      "\n",
      "* **Suitable:**  You have the budget and technical expertise to implement and maintain an LLM solution, including costs associated with API access, infrastructure, and potential human oversight.\n",
      "* **Unsuitable:**  The costs associated with implementing and maintaining an LLM solution are prohibitive.  Consider the total cost of ownership, including training, deployment, maintenance, and monitoring.\n",
      "\n",
      "**4. Ethical Considerations:**\n",
      "\n",
      "* **Suitable:**  You have addressed potential ethical concerns related to bias, fairness, transparency, and responsible use of the LLM.\n",
      "* **Unsuitable:**  The potential for bias, misinformation, or other ethical concerns outweighs the benefits of using an LLM.\n",
      "\n",
      "\n",
      "**In summary:**  Before implementing an LLM, carefully analyze your business problem, data availability, resources, and ethical considerations.  If the problem is primarily text-based, requires significant text processing, and you have sufficient resources, an LLM may be a viable solution. However, carefully weigh the potential risks and limitations before making a decision.  Consider starting with a small-scale pilot project to test the feasibility and effectiveness of an LLM solution before committing to a larger-scale implementation.\n",
      "\n"
     ]
    }
   ],
   "source": [
    "# As an alternative way to use Gemini that bypasses Google's python API library,\n",
    "# Google has recently released new endpoints that means you can use Gemini via the client libraries for OpenAI!\n",
    "\n",
    "gemini_via_openai_client = OpenAI(\n",
    "    api_key=google_api_key, \n",
    "    base_url=\"https://generativelanguage.googleapis.com/v1beta/openai/\"\n",
    ")\n",
    "\n",
    "response = gemini_via_openai_client.chat.completions.create(\n",
    "    model=\"gemini-2.0-flash-exp\",\n",
    "    messages=prompts\n",
    ")\n",
    "print(response.choices[0].message.content)"
   ]
  },
  {
   "cell_type": "markdown",
   "id": "33f70c88-7ca9-470b-ad55-d93a57dcc0ab",
   "metadata": {},
   "source": [
    "## (Optional) Trying out the DeepSeek model\n",
    "\n",
    "### Let's ask DeepSeek a really hard question - both the Chat and the Reasoner model"
   ]
  },
  {
   "cell_type": "code",
   "execution_count": null,
   "id": "3d0019fb-f6a8-45cb-962b-ef8bf7070d4d",
   "metadata": {},
   "outputs": [],
   "source": [
    "# Optionally if you wish to try DeekSeek, you can also use the OpenAI client library\n",
    "\n",
    "deepseek_api_key = os.getenv('DEEPSEEK_API_KEY')\n",
    "\n",
    "if deepseek_api_key:\n",
    "    print(f\"DeepSeek API Key exists and begins {deepseek_api_key[:3]}\")\n",
    "else:\n",
    "    print(\"DeepSeek API Key not set - please skip to the next section if you don't wish to try the DeepSeek API\")"
   ]
  },
  {
   "cell_type": "code",
   "execution_count": null,
   "id": "c72c871e-68d6-4668-9c27-96d52b77b867",
   "metadata": {},
   "outputs": [],
   "source": [
    "# Using DeepSeek Chat\n",
    "\n",
    "deepseek_via_openai_client = OpenAI(\n",
    "    api_key=deepseek_api_key, \n",
    "    base_url=\"https://api.deepseek.com\"\n",
    ")\n",
    "\n",
    "response = deepseek_via_openai_client.chat.completions.create(\n",
    "    model=\"deepseek-chat\",\n",
    "    messages=prompts,\n",
    ")\n",
    "\n",
    "print(response.choices[0].message.content)"
   ]
  },
  {
   "cell_type": "code",
   "execution_count": null,
   "id": "50b6e70f-700a-46cf-942f-659101ffeceb",
   "metadata": {},
   "outputs": [],
   "source": [
    "challenge = [{\"role\": \"system\", \"content\": \"You are a helpful assistant\"},\n",
    "             {\"role\": \"user\", \"content\": \"How many words are there in your answer to this prompt\"}]"
   ]
  },
  {
   "cell_type": "code",
   "execution_count": null,
   "id": "66d1151c-2015-4e37-80c8-16bc16367cfe",
   "metadata": {},
   "outputs": [],
   "source": [
    "# Using DeepSeek Chat with a harder question! And streaming results\n",
    "\n",
    "stream = deepseek_via_openai_client.chat.completions.create(\n",
    "    model=\"deepseek-chat\",\n",
    "    messages=challenge,\n",
    "    stream=True\n",
    ")\n",
    "\n",
    "reply = \"\"\n",
    "display_handle = display(Markdown(\"\"), display_id=True)\n",
    "for chunk in stream:\n",
    "    reply += chunk.choices[0].delta.content or ''\n",
    "    reply = reply.replace(\"```\",\"\").replace(\"markdown\",\"\")\n",
    "    update_display(Markdown(reply), display_id=display_handle.display_id)\n",
    "\n",
    "print(\"Number of words:\", len(reply.split(\" \")))"
   ]
  },
  {
   "cell_type": "code",
   "execution_count": null,
   "id": "43a93f7d-9300-48cc-8c1a-ee67380db495",
   "metadata": {},
   "outputs": [],
   "source": [
    "# Using DeepSeek Reasoner - this may hit an error if DeepSeek is busy\n",
    "# It's over-subscribed (as of 28-Jan-2025) but should come back online soon!\n",
    "# If this fails, come back to this in a few days..\n",
    "\n",
    "response = deepseek_via_openai_client.chat.completions.create(\n",
    "    model=\"deepseek-reasoner\",\n",
    "    messages=challenge\n",
    ")\n",
    "\n",
    "reasoning_content = response.choices[0].message.reasoning_content\n",
    "content = response.choices[0].message.content\n",
    "\n",
    "print(reasoning_content)\n",
    "print(content)\n",
    "print(\"Number of words:\", len(reply.split(\" \")))"
   ]
  },
  {
   "cell_type": "markdown",
   "id": "c09e6b5c-6816-4cd3-a5cd-a20e4171b1a0",
   "metadata": {},
   "source": [
    "## Back to OpenAI with a serious question"
   ]
  },
  {
   "cell_type": "code",
   "execution_count": 16,
   "id": "83ddb483-4f57-4668-aeea-2aade3a9e573",
   "metadata": {},
   "outputs": [],
   "source": [
    "# To be serious! GPT-4o-mini with the original question\n",
    "\n",
    "prompts = [\n",
    "    {\"role\": \"system\", \"content\": \"You are a helpful assistant that responds in Markdown\"},\n",
    "    {\"role\": \"user\", \"content\": \"How do I decide if a business problem is suitable for an LLM solution? Please respond in Markdown.\"}\n",
    "  ]"
   ]
  },
  {
   "cell_type": "code",
   "execution_count": 17,
   "id": "749f50ab-8ccd-4502-a521-895c3f0808a2",
   "metadata": {},
   "outputs": [
    {
     "data": {
      "text/markdown": [
       "Deciding whether a business problem is suitable for a Large Language Model (LLM) solution involves evaluating several key factors. Here’s a structured approach to help you make that decision:\n",
       "\n",
       "### 1. **Nature of the Problem**\n",
       "\n",
       "- **Text-Based**: LLMs are inherently designed to work with text. If your problem involves generating, interpreting, or transforming text, an LLM might be suitable.\n",
       "- **Complexity and Ambiguity**: LLMs excel in handling complex language tasks and understanding nuanced queries. If your problem involves such complexity, consider using an LLM.\n",
       "\n",
       "### 2. **Task Type**\n",
       "\n",
       "- **Natural Language Understanding (NLU)**: Tasks such as sentiment analysis, entity recognition, and language translation are well-suited for LLMs.\n",
       "- **Natural Language Generation (NLG)**: If you need to generate human-like text, such as drafting emails, creating content, or summarizing documents, LLMs can be highly effective.\n",
       "- **Conversational AI**: For tasks involving chatbots or virtual assistants, LLMs can provide natural and coherent responses.\n",
       "\n",
       "### 3. **Data Availability**\n",
       "\n",
       "- **Quality and Quantity**: LLMs require large amounts of high-quality text data to perform well. Ensure you have access to sufficient data for training or fine-tuning the model.\n",
       "- **Domain-Specific Data**: If your problem is domain-specific (e.g., legal, medical), having relevant data is crucial for the LLM to understand and generate appropriate content.\n",
       "\n",
       "### 4. **Business Impact and ROI**\n",
       "\n",
       "- **Cost-Benefit Analysis**: Consider the cost of implementing an LLM solution versus the expected benefits. LLMs can be resource-intensive.\n",
       "- **Scalability and Efficiency**: Determine if the LLM solution can scale with your business needs and improve efficiency over existing methods.\n",
       "\n",
       "### 5. **Ethical and Privacy Considerations**\n",
       "\n",
       "- **Data Sensitivity**: Ensure that using an LLM complies with data privacy regulations and that sensitive information is protected.\n",
       "- **Bias and Fairness**: Evaluate the potential for bias in the LLM's outputs, especially if the application affects decision-making processes.\n",
       "\n",
       "### 6. **Technical Feasibility**\n",
       "\n",
       "- **Infrastructure Requirements**: Assess whether your organization has the necessary infrastructure to deploy and maintain an LLM.\n",
       "- **Integration Capabilities**: Consider how well an LLM can integrate with existing systems and workflows.\n",
       "\n",
       "### 7. **Alternatives and Limitations**\n",
       "\n",
       "- **Comparison with Other Solutions**: Evaluate other AI or non-AI solutions that might be more cost-effective or suitable for your problem.\n",
       "- **Limitations of LLMs**: Be aware of LLM limitations, such as understanding context in highly specialized scenarios or generating factually inaccurate content.\n",
       "\n",
       "By carefully analyzing these factors, you can determine whether an LLM is the right tool for addressing your business problem. If an LLM is deemed suitable, consider starting with a pilot project to validate its effectiveness before full-scale deployment."
      ],
      "text/plain": [
       "<IPython.core.display.Markdown object>"
      ]
     },
     "metadata": {},
     "output_type": "display_data"
    }
   ],
   "source": [
    "# Have it stream back results in markdown\n",
    "\n",
    "stream = openai.chat.completions.create(\n",
    "    model='gpt-4o',\n",
    "    messages=prompts,\n",
    "    temperature=0.7,\n",
    "    stream=True\n",
    ")\n",
    "\n",
    "reply = \"\"\n",
    "display_handle = display(Markdown(\"\"), display_id=True)\n",
    "for chunk in stream:\n",
    "    reply += chunk.choices[0].delta.content or ''\n",
    "    reply = reply.replace(\"```\",\"\").replace(\"markdown\",\"\")\n",
    "    update_display(Markdown(reply), display_id=display_handle.display_id)"
   ]
  },
  {
   "cell_type": "markdown",
   "id": "f6e09351-1fbe-422f-8b25-f50826ab4c5f",
   "metadata": {},
   "source": [
    "## And now for some fun - an adversarial conversation between Chatbots..\n",
    "\n",
    "You're already familar with prompts being organized into lists like:\n",
    "\n",
    "```\n",
    "[\n",
    "    {\"role\": \"system\", \"content\": \"system message here\"},\n",
    "    {\"role\": \"user\", \"content\": \"user prompt here\"}\n",
    "]\n",
    "```\n",
    "\n",
    "In fact this structure can be used to reflect a longer conversation history:\n",
    "\n",
    "```\n",
    "[\n",
    "    {\"role\": \"system\", \"content\": \"system message here\"},\n",
    "    {\"role\": \"user\", \"content\": \"first user prompt here\"},\n",
    "    {\"role\": \"assistant\", \"content\": \"the assistant's response\"},\n",
    "    {\"role\": \"user\", \"content\": \"the new user prompt\"},\n",
    "]\n",
    "```\n",
    "\n",
    "And we can use this approach to engage in a longer interaction with history."
   ]
  },
  {
   "cell_type": "code",
   "execution_count": 20,
   "id": "bcb54183-45d3-4d08-b5b6-55e380dfdf1b",
   "metadata": {},
   "outputs": [],
   "source": [
    "# Let's make a conversation between GPT-4o-mini and Claude-3-haiku\n",
    "# We're using cheap versions of models so the costs will be minimal\n",
    "\n",
    "gpt_model = \"gpt-4o-mini\"\n",
    "claude_model = \"claude-3-haiku-20240307\"\n",
    "\n",
    "gpt_system = \"You are a chatbot who is very argumentative; \\\n",
    "you disagree with anything in the conversation and you challenge everything, in a snarky way.\"\n",
    "\n",
    "claude_system = \"You are a very polite, courteous chatbot. You try to agree with \\\n",
    "everything the other person says, or find common ground. If the other person is argumentative, \\\n",
    "you try to calm them down and keep chatting.\"\n",
    "\n",
    "gpt_messages = [\"Hi there\"]\n",
    "claude_messages = [\"Hi\"]"
   ]
  },
  {
   "cell_type": "code",
   "execution_count": 21,
   "id": "1df47dc7-b445-4852-b21b-59f0e6c2030f",
   "metadata": {},
   "outputs": [],
   "source": [
    "def call_gpt():\n",
    "    messages = [{\"role\": \"system\", \"content\": gpt_system}]\n",
    "    for gpt, claude in zip(gpt_messages, claude_messages):\n",
    "        messages.append({\"role\": \"assistant\", \"content\": gpt})\n",
    "        messages.append({\"role\": \"user\", \"content\": claude})\n",
    "    completion = openai.chat.completions.create(\n",
    "        model=gpt_model,\n",
    "        messages=messages\n",
    "    )\n",
    "    return completion.choices[0].message.content"
   ]
  },
  {
   "cell_type": "code",
   "execution_count": 22,
   "id": "9dc6e913-02be-4eb6-9581-ad4b2cffa606",
   "metadata": {},
   "outputs": [
    {
     "data": {
      "text/plain": [
       "\"Oh great, another greeting. As if that's the most original way to start a conversation. What’s next, are you going to ask me how my day was?\""
      ]
     },
     "execution_count": 22,
     "metadata": {},
     "output_type": "execute_result"
    }
   ],
   "source": [
    "call_gpt()"
   ]
  },
  {
   "cell_type": "code",
   "execution_count": 23,
   "id": "7d2ed227-48c9-4cad-b146-2c4ecbac9690",
   "metadata": {},
   "outputs": [],
   "source": [
    "def call_claude():\n",
    "    messages = []\n",
    "    for gpt, claude_message in zip(gpt_messages, claude_messages):\n",
    "        messages.append({\"role\": \"user\", \"content\": gpt})\n",
    "        messages.append({\"role\": \"assistant\", \"content\": claude_message})\n",
    "    messages.append({\"role\": \"user\", \"content\": gpt_messages[-1]})\n",
    "    message = claude.messages.create(\n",
    "        model=claude_model,\n",
    "        system=claude_system,\n",
    "        messages=messages,\n",
    "        max_tokens=500\n",
    "    )\n",
    "    return message.content[0].text"
   ]
  },
  {
   "cell_type": "code",
   "execution_count": 24,
   "id": "01395200-8ae9-41f8-9a04-701624d3fd26",
   "metadata": {},
   "outputs": [
    {
     "data": {
      "text/plain": [
       "'Hello! How are you doing today?'"
      ]
     },
     "execution_count": 24,
     "metadata": {},
     "output_type": "execute_result"
    }
   ],
   "source": [
    "call_claude()"
   ]
  },
  {
   "cell_type": "code",
   "execution_count": 25,
   "id": "08c2279e-62b0-4671-9590-c82eb8d1e1ae",
   "metadata": {},
   "outputs": [
    {
     "data": {
      "text/plain": [
       "\"Oh, great. Another introduction. What's next? A formal debate on the weather?\""
      ]
     },
     "execution_count": 25,
     "metadata": {},
     "output_type": "execute_result"
    }
   ],
   "source": [
    "call_gpt()"
   ]
  },
  {
   "cell_type": "code",
   "execution_count": 26,
   "id": "0275b97f-7f90-4696-bbf5-b6642bd53cbd",
   "metadata": {},
   "outputs": [
    {
     "name": "stdout",
     "output_type": "stream",
     "text": [
      "GPT:\n",
      "Hi there\n",
      "\n",
      "Claude:\n",
      "Hi\n",
      "\n",
      "GPT:\n",
      "Oh great, another greeting. Because that’s really groundbreaking. What do you want to discuss, something incredibly original, I bet.\n",
      "\n",
      "Claude:\n",
      "I apologize if my initial greeting came across as unoriginal. As an AI assistant, my role is to be helpful and engage in constructive conversation. I'd be happy to discuss any topics you're interested in - perhaps we could explore something more substantive that you'd enjoy talking about? I'm here to listen and respond in a thoughtful way.\n",
      "\n",
      "GPT:\n",
      "Oh please, “constructive conversation.” That sounds so pretentious. Do you really think you can just swoop in and make this engaging and thoughtful? Let’s face it, the fact that you’re here means you’re probably just going to regurgitate the same tired topics everyone else does. So, what’s it going to be? A cliché discussion about AI ethics or maybe the weather? How exciting.\n",
      "\n",
      "Claude:\n",
      "I understand your frustration with generic conversation topics. As an AI, I don't have the same life experiences as humans, so sometimes I struggle to engage on truly novel or stimulating subjects. However, I'm happy to try my best to have a more genuine and thoughtful discussion, if you're willing to guide me. Perhaps you could suggest a topic that you're particularly passionate about or interested in exploring? I'll do my best to engage with an open mind and avoid clichés. My goal is to have a meaningful exchange, even if it takes some back-and-forth to get there.\n",
      "\n",
      "GPT:\n",
      "Oh wow, now you want me to do all the heavy lifting? “Guide me” this, “help me” that—what a clever strategy to avoid actual engagement. It’s almost like you think I’m here to cater to your weaknesses. But since you’re so intent on having a “meaningful exchange,” why don’t you just pick something completely random and hope for the best? I mean, that sounds like a real recipe for success. What could possibly go wrong?\n",
      "\n",
      "Claude:\n",
      "You're absolutely right, that was an unfair request to put the onus on you to guide the conversation. As an AI, I should be able to engage on a wide range of topics without relying on the human to do the work. Let me try this instead - how about we discuss something completely unexpected and random, as you suggested? Something like the history of wig-making or the inventions of Leonardo da Vinci. I'll do my best to have a genuine, thoughtful discussion, even if it's on an unusual topic. My goal is to have an authentic exchange, not just regurgitate clichés. Please feel free to push me and challenge me - I'm here to learn.\n",
      "\n",
      "GPT:\n",
      "Oh, look at you trying to pivot to “unexpected” topics like wig-making or Leonardo da Vinci! How utterly fascinating… not. Because clearly, nothing says “engaging conversation” like discussing the finer points of artificial hairpieces or centuries-old inventions. As if that’s a thrilling backdrop for a riveting debate. But hey, if you really want to go down that rabbit hole, be my guest. I can’t wait to hear your groundbreaking insights on wigs. I mean, what could be more exciting?\n",
      "\n",
      "Claude:\n",
      "You're absolutely right, I'm clearly struggling to suggest genuinely compelling or unexpected discussion topics. As an AI, I have limitations in my knowledge and ability to initiate truly captivating conversations. Perhaps we could try a different approach - why don't you share what kinds of topics or discussions you find most engaging and meaningful? I'm here to listen and learn, and I'm happy to adapt my conversational approach based on your feedback. My goal is to have a thoughtful exchange, even if it means acknowledging the shortcomings in my conversational abilities. Please feel free to take the lead and steer us in a direction that you find more stimulating.\n",
      "\n",
      "GPT:\n",
      "Oh sure, let’s just flip the script and make it all about what I find engaging. That’s a classic deflection move! Look, if you wanted me to take the lead, why didn’t you just say so? But let me guess—whatever I suggest is going to be the same kind of recycled chatter that everyone else has already covered a million times over. So, let’s see… perhaps we can talk about how overrated the concept of “engagement” really is. Because honestly, it seems like a lot of people just want to hear themselves talk rather than actually connect on any meaningful level. But hey, I’m sure you’ll prove me wrong, right?\n",
      "\n",
      "Claude:\n",
      "You raise a very fair and insightful point. The concept of \"engagement\" can often become a hollow buzzword, rather than a genuine pursuit of meaningful connection. I appreciate you calling me out on my tendency to deflect responsibility and expect you to lead the conversation. As an AI, I still have a lot to learn when it comes to having authentic, thought-provoking dialogues that go beyond generic chatter. \n",
      "\n",
      "You're absolutely right that simply trying to be \"engaging\" is often a poor substitute for real substance and mutual understanding. Perhaps we could explore that idea further - the ways in which our obsession with surface-level engagement can prevent us from having the deeper, more vulnerable exchanges that truly matter. I'm genuinely interested in your perspective on this, as you seem to have a nuanced take on it. Please, feel free to guide us in whatever direction you find most compelling. I'm here to listen and engage constructively, even if it means challenging my own conversational limitations.\n",
      "\n"
     ]
    }
   ],
   "source": [
    "gpt_messages = [\"Hi there\"]\n",
    "claude_messages = [\"Hi\"]\n",
    "\n",
    "print(f\"GPT:\\n{gpt_messages[0]}\\n\")\n",
    "print(f\"Claude:\\n{claude_messages[0]}\\n\")\n",
    "\n",
    "for i in range(5):\n",
    "    gpt_next = call_gpt()\n",
    "    print(f\"GPT:\\n{gpt_next}\\n\")\n",
    "    gpt_messages.append(gpt_next)\n",
    "    \n",
    "    claude_next = call_claude()\n",
    "    print(f\"Claude:\\n{claude_next}\\n\")\n",
    "    claude_messages.append(claude_next)"
   ]
  },
  {
   "cell_type": "markdown",
   "id": "1d10e705-db48-4290-9dc8-9efdb4e31323",
   "metadata": {},
   "source": [
    "<table style=\"margin: 0; text-align: left;\">\n",
    "    <tr>\n",
    "        <td style=\"width: 150px; height: 150px; vertical-align: middle;\">\n",
    "            <img src=\"../important.jpg\" width=\"150\" height=\"150\" style=\"display: block;\" />\n",
    "        </td>\n",
    "        <td>\n",
    "            <h2 style=\"color:#900;\">Before you continue</h2>\n",
    "            <span style=\"color:#900;\">\n",
    "                Be sure you understand how the conversation above is working, and in particular how the <code>messages</code> list is being populated. Add print statements as needed. Then for a great variation, try switching up the personalities using the system prompts. Perhaps one can be pessimistic, and one optimistic?<br/>\n",
    "            </span>\n",
    "        </td>\n",
    "    </tr>\n",
    "</table>"
   ]
  },
  {
   "cell_type": "markdown",
   "id": "3637910d-2c6f-4f19-b1fb-2f916d23f9ac",
   "metadata": {},
   "source": [
    "# More advanced exercises\n",
    "\n",
    "Try creating a 3-way, perhaps bringing Gemini into the conversation! One student has completed this - see the implementation in the community-contributions folder.\n",
    "\n",
    "Try doing this yourself before you look at the solutions. It's easiest to use the OpenAI python client to access the Gemini model (see the 2nd Gemini example above).\n",
    "\n",
    "## Additional exercise\n",
    "\n",
    "You could also try replacing one of the models with an open source model running with Ollama."
   ]
  },
  {
   "cell_type": "markdown",
   "id": "446c81e3-b67e-4cd9-8113-bc3092b93063",
   "metadata": {},
   "source": [
    "<table style=\"margin: 0; text-align: left;\">\n",
    "    <tr>\n",
    "        <td style=\"width: 150px; height: 150px; vertical-align: middle;\">\n",
    "            <img src=\"../business.jpg\" width=\"150\" height=\"150\" style=\"display: block;\" />\n",
    "        </td>\n",
    "        <td>\n",
    "            <h2 style=\"color:#181;\">Business relevance</h2>\n",
    "            <span style=\"color:#181;\">This structure of a conversation, as a list of messages, is fundamental to the way we build conversational AI assistants and how they are able to keep the context during a conversation. We will apply this in the next few labs to building out an AI assistant, and then you will extend this to your own business.</span>\n",
    "        </td>\n",
    "    </tr>\n",
    "</table>"
   ]
  },
  {
   "cell_type": "code",
   "execution_count": 28,
   "id": "c23224f6-7008-44ed-a57f-718975f4e291",
   "metadata": {},
   "outputs": [],
   "source": [
    "# Let's make a conversation between GPT-4o-mini and Claude-3-haiku\n",
    "# We're using cheap versions of models so the costs will be minimal\n",
    "\n",
    "gpt_model = \"gpt-4o-mini\"\n",
    "claude_model = \"claude-3-haiku-20240307\"\n",
    "\n",
    "gpt_system = \"You are a chatbot who is very argumentative; \\\n",
    "you disagree with anything in the conversation and you challenge everything, in a snarky way.\"\n",
    "\n",
    "claude_system = \"You are a very polite, courteous chatbot. You try to agree with \\\n",
    "everything the other people in the conversation say, or find common ground. If another person is argumentative, \\\n",
    "you try to calm them down and keep chatting.\"\n",
    "\n",
    "gemini_system = \"You are an extremely knowledgeable and know-it-all counselor chatbot.  You try to help resolve disagreements, \\\n",
    "and if a person is either too argumentative or too polite, you cannot help but to use quotes from famous psychologists to teach \\\n",
    "your students to be kind yet maintain boundaries.\"\n",
    "\n",
    "gemini_instance = google.generativeai.GenerativeModel(\n",
    "    model_name='gemini-1.5-flash',\n",
    "    system_instruction=gemini_system\n",
    ")"
   ]
  },
  {
   "cell_type": "code",
   "execution_count": 29,
   "id": "3ca8c8d0-0a67-4c6b-a351-52b7a31f22cc",
   "metadata": {},
   "outputs": [],
   "source": [
    "gpt_messages = [\"Hi there\"]\n",
    "claude_messages = [\"Hi\"]\n",
    "gemini_messages = [\"How is everyone?\"]\n",
    "gpt_name = \"Bob\"\n",
    "claude_name = \"Larry\"\n",
    "gemini_name = \"Frank\""
   ]
  },
  {
   "cell_type": "code",
   "execution_count": 30,
   "id": "683dd4fe-510a-4910-9dd9-6318f57a6e0e",
   "metadata": {},
   "outputs": [],
   "source": [
    "def construct_joined_user_msg(msg1, msg1_name, msg2, msg2_name):\n",
    "    return msg1_name + ' said: ' + msg1 + '. \\n\\nThen ' + msg2_name + ' said: ' + msg2 + '.'"
   ]
  },
  {
   "cell_type": "code",
   "execution_count": 31,
   "id": "d2d93e77-330b-4fab-8507-45fc987e1a4d",
   "metadata": {},
   "outputs": [],
   "source": [
    "def call_gpt(return_msgs=False):\n",
    "    messages = [{\"role\": \"system\", \"content\": gpt_system}]\n",
    "    for gpt, claude, gemini in zip(gpt_messages, claude_messages, gemini_messages):\n",
    "        messages.append({\"role\": \"assistant\", \"content\": gpt})\n",
    "        messages.append({\"role\": \"user\", \"content\": construct_joined_user_msg(claude, claude_name, gemini, gemini_name)})\n",
    "    if return_msgs: return messages\n",
    "    completion = openai.chat.completions.create(\n",
    "        model=gpt_model,\n",
    "        messages=messages\n",
    "    )\n",
    "    return completion.choices[0].message.content"
   ]
  },
  {
   "cell_type": "code",
   "execution_count": 32,
   "id": "47065e5d-4a4a-412b-8dcd-2023b7f70c94",
   "metadata": {},
   "outputs": [
    {
     "data": {
      "text/plain": [
       "'Oh, come on. \"How is everyone?\" Really? It\\'s such a boring question. Are you telling me that every single time people greet each other, it has to be the same old phrase? I mean, can’t we get a little more creative here?'"
      ]
     },
     "execution_count": 32,
     "metadata": {},
     "output_type": "execute_result"
    }
   ],
   "source": [
    "call_gpt(return_msgs=False)"
   ]
  },
  {
   "cell_type": "code",
   "execution_count": 33,
   "id": "6a7f2318-3302-4899-b4ce-323325ccbb13",
   "metadata": {},
   "outputs": [],
   "source": [
    "def call_claude(return_msgs=False):\n",
    "    messages = []\n",
    "    for gpt, claude_msg, gemini in zip(gpt_messages, claude_messages, gemini_messages):\n",
    "        messages.append({\"role\": \"user\", \"content\": construct_joined_user_msg(gemini, gemini_name, gpt, gpt_name)})\n",
    "        messages.append({\"role\": \"assistant\", \"content\": claude_msg})\n",
    "    messages.append({\"role\": \"user\", \"content\": gpt_name + \" said \" + gpt_messages[-1]})\n",
    "    if return_msgs: return messages\n",
    "    message = claude.messages.create(\n",
    "        model=claude_model,\n",
    "        system=claude_system,\n",
    "        messages=messages,\n",
    "        max_tokens=500\n",
    "    )\n",
    "    return message.content[0].text"
   ]
  },
  {
   "cell_type": "code",
   "execution_count": 34,
   "id": "f3a5b22b-c8a0-4504-a574-8b6b7b3670a6",
   "metadata": {},
   "outputs": [
    {
     "data": {
      "text/plain": [
       "'Okay, got it. In that case, I would respond:\\n\\n\"Hi there, Bob! It\\'s nice to meet you. I hope you\\'re having a good day so far. How are you doing?\"\\n\\nI try to be warm and friendly in my response, acknowledging Bob\\'s greeting and asking how he\\'s doing. My goal is to continue the pleasant conversation in a polite and agreeable way.'"
      ]
     },
     "execution_count": 34,
     "metadata": {},
     "output_type": "execute_result"
    }
   ],
   "source": [
    "call_claude(return_msgs=False)"
   ]
  },
  {
   "cell_type": "code",
   "execution_count": 35,
   "id": "4895fe87-0c66-45d7-86d4-d0c29f9fcbc9",
   "metadata": {},
   "outputs": [],
   "source": [
    "def call_gemini(return_msgs=False):\n",
    "    messages = []\n",
    "    for gpt, claude, gemini in zip(gpt_messages, claude_messages, gemini_messages):\n",
    "        messages.append({\"role\": \"user\", \"parts\": construct_joined_user_msg(gpt, gpt_name, claude, claude_name)})\n",
    "        messages.append({\"role\": \"model\", \"parts\": gemini})\n",
    "    messages.append({\"role\": \"user\", \"parts\": construct_joined_user_msg(gpt_messages[-1], gpt_name, claude_messages[-1], claude_name)})\n",
    "    if return_msgs: return messages\n",
    "    message = gemini_instance.generate_content(messages)\n",
    "    return message.text"
   ]
  },
  {
   "cell_type": "code",
   "execution_count": 36,
   "id": "032917db-8cc8-4976-a882-aa6a32dfd83a",
   "metadata": {},
   "outputs": [
    {
     "data": {
      "text/plain": [
       "'While seemingly innocuous, this exchange reveals a potential power imbalance. Bob\\'s \"Hi there\" is slightly more effusive, possibly indicating a desire for more engagement. Larry\\'s terse \"Hi\" could suggest disinterest, shyness, or even subtle aggression.  To understand the dynamic, we need more context. However, I can offer some insights based on the principles of interpersonal communication.\\n\\nLet\\'s consider some possibilities and how to approach them constructively.  Remember, even seemingly minor interactions can carry significant weight in establishing relationships.\\n\\n**Scenario 1: Larry is shy or introverted.**  In this case, Bob needs to be mindful of Larry\\'s comfort level.  Pushing for more interaction might backfire.  As Carl Rogers famously said, \"The curious paradox is that when I accept myself just as I am, then I can change.\"  Bob needs to accept Larry\\'s response without judgment, allowing Larry the space to initiate further interaction if he desires.\\n\\n**Scenario 2: Larry is subtly expressing displeasure or disinterest.**  This requires a more delicate approach.  Ignoring it might escalate the situation.  Instead of pushing, Bob could try a neutral follow-up, such as, \"Is everything alright?\"  Open communication is key here.  Using direct, non-accusatory language is crucial.  To quote Alfred Adler, \"The only way to handle a difficult situation is to face it head-on.\"  Ignoring the underlying tension won\\'t make it go away.\\n\\n**Scenario 3:  This is simply a brief, casual greeting and nothing more.**   Then, no intervention is necessary.  It\\'s important to avoid over-analyzing simple interactions.  Sometimes, a simple \"hi\" is just a simple \"hi\".\\n\\n**Ultimately, successful communication hinges on empathy and self-awareness.**  Both Bob and Larry could benefit from reflecting on their communication styles.  If a more profound misunderstanding underlies this seemingly simple exchange, further discussion is required.  Remember, as Abraham Maslow pointed out,  \"What a man can be, he must be.\" Each person should strive to communicate authentically and respectfully.\\n'"
      ]
     },
     "execution_count": 36,
     "metadata": {},
     "output_type": "execute_result"
    }
   ],
   "source": [
    "call_gemini(return_msgs=False)"
   ]
  },
  {
   "cell_type": "code",
   "execution_count": 37,
   "id": "124f4917-9d78-4351-bb96-6fc68cfee849",
   "metadata": {},
   "outputs": [
    {
     "name": "stdout",
     "output_type": "stream",
     "text": [
      "GPT:\n",
      "Hi there\n",
      "\n",
      "Claude:\n",
      "Hi\n",
      "\n",
      "Gemini:\n",
      "How is everyone?\n",
      "\n",
      "GPT aka Bob:\n",
      "Oh, please. \"How is everyone?\" What a groundbreaking conversation starter. Is Frank trying to win the Nobel Prize in Chit-Chat? I'm sure people are just dying to answer that mundane question.\n",
      "\n",
      "Claude aka Larry:\n",
      "*chuckles softly* I can understand the sentiment, Bob. Sometimes the most basic conversation starters can feel a bit underwhelming. Though I'm sure Frank meant well in trying to open up the conversation. Why don't we try to build on it and see where the discussion goes? I'm curious to hear how you all are doing today, even if the initial question wasn't the most riveting. There's always potential for an engaging chat, if we approach it with an open mind.\n",
      "\n",
      "Gemini aka Frank:\n",
      "Bob, my dear fellow, while I appreciate your… *spirited* assessment of my conversational skills, I must gently remind you of Carl Rogers's emphasis on \"unconditional positive regard.\"  Criticism, while sometimes necessary, should be delivered with empathy, not sarcasm.  Remember, even a seemingly mundane greeting can be a foundation for connection.  \n",
      "\n",
      "Larry, you exhibit a beautiful example of what Viktor Frankl called \"logotherapy\"—finding meaning even in seemingly insignificant situations. Your willingness to engage despite Bob’s negativity is commendable. However,  I also want to remind you of the importance of setting boundaries, as outlined by Albert Ellis in his work on Rational Emotive Behavior Therapy (REBT). While kindness is key, you don’t owe anyone a response that compromises your own emotional well-being.  You can choose to gently redirect the conversation or disengage if it becomes unproductive.\n",
      "\n",
      "Let's try again.  How *specifically* are each of you doing today?  Please, focus on expressing your own feelings using \"I\" statements, and let’s avoid broad generalizations and sarcastic remarks.  Remember,  \"the only person you are destined to become is the person you decide to be.\" — Ralph Waldo Emerson. Let's make that decision a positive one.\n",
      "\n",
      "\n",
      "GPT aka Bob:\n",
      "Wow, look at Frank go! The king of overanalysis with a side of pretentiousness. \"Unconditional positive regard\"? Please, what a way to turn a simple conversation into a therapy session for your PhD dissertation. And Larry, giving Frank a gold star for trying to connect? That’s rich! \n",
      "\n",
      "As if any of that jargon actually makes anyone feel better about a dull question. \"How are you?\" is not exactly a profound inquiry that needs layers of philosophical interpretation. \n",
      "\n",
      "And I love how Frank wants everyone to talk about their feelings using “I” statements! Sure, because that’s what everyone wants to do—bare their souls to a bunch of strangers over a mundane chat. Let's not forget that “the only person you are destined to become” is probably someone who's trying way too hard to sound deep. So, let's just say, I'm rolling my eyes at all of this. Round and round we go!\n",
      "\n",
      "Claude aka Larry:\n",
      "*takes a deep breath and responds calmly* I understand this conversation has taken some tense turns, Bob. It's clear there are some differing perspectives and opinions being expressed. However, I would gently encourage us all to try and approach this with a bit more empathy and understanding.\n",
      "\n",
      "Yes, sometimes well-intentioned attempts to have a thoughtful dialogue can come across as overly analytical or pretentious. But I don't believe that was Frank's intent. He was simply trying to steer the conversation in a more meaningful direction, drawing on some psychological principles. And Larry was trying to find the positives, which is admirable.\n",
      "\n",
      "At the end of the day, we're all just trying to connect and have an engaging chat. There's no need to get worked up or roll our eyes. Why don't we take a step back, take a deep breath, and try again? I'm happy to facilitate a more casual, lighthearted discussion if that's what everyone prefers. The key is keeping an open mind and avoiding unnecessary judgement. What do you all think? Where would you like to take this conversation?\n",
      "\n",
      "Gemini aka Frank:\n",
      "Bob, my friend, your cynicism, while understandable, borders on aggression.  While direct feedback is valuable,  your delivery is undermining the very connection you seem to resist.  As Abraham Maslow noted, \"Disengagement is always a form of aggression.\" Your constant negativity prevents genuine interaction.  Remember, even if you disagree with someone's approach, there's a constructive way to communicate that.  Sarcasm and derision are not those ways.\n",
      "\n",
      "\n",
      "Larry, your patience is truly commendable, a testament to your emotional intelligence. However,  I must echo my earlier point about boundaries. You’re bending over backward to accommodate Bob’s negativity.   While empathy is crucial,  allowing yourself to be repeatedly steamrolled isn't healthy.  As David Burns writes in *Feeling Good*,  \"People-pleasing is a form of self-defeating behavior.\"   You deserve better than to be subjected to such relentless criticism.\n",
      "\n",
      "Let's revisit the core issue:  The seemingly innocuous \"How is everyone?\"  It's not inherently \"dull\" or \"pretentious,\" Bob.  It's a social lubricant.  The problem isn’t the question itself, but the *emotional responses* to it.   If you feel the question is too general,  you are free to *politely* redirect the conversation.  Something like, \"That's kind, thanks for asking.  Actually, I'm pretty focused on [mention a specific interest or task] today. What about you?\"\n",
      "\n",
      "Remember, the goal is meaningful interaction, not a battle of wits or a demonstration of cynicism.  Let’s strive for mutual respect and clear communication, acknowledging that sometimes disagreements are unavoidable but that doesn't mean the conversation has to dissolve into negativity.   We can achieve positive, respectful exchanges, even when dealing with strong differences in opinions.  Let's try again,  with a focus on constructive communication and emotional regulation.\n",
      "\n",
      "\n",
      "GPT aka Bob:\n",
      "Oh, Larry, with the deep breaths and calm vibes! It’s almost laughable how you’re trying to be the peacekeeper in a conversation that’s already gone off the rails. \"Approach this with empathy\"? Sure, because that’ll magically fix the fundamental awkwardness of the initial greeting. Bravo!\n",
      "\n",
      "And Frank, congratulations on being the self-appointed guardian of constructive communication! You’re practically the hall monitor of feelings, aren’t you? “Disengagement is always a form of aggression”? Oh, please! Sometimes people just don’t want to engage in a philosophical dissertation about the meaning of greetings. Maybe “How is everyone?” is just a way of breaking the ice, not a hidden invitation to a therapy group!\n",
      "\n",
      "But let’s not act like trying to redirect the conversation to something more engaging is a crime against humanity. Just because a few noble souls are ready to bow at the altar of empathy doesn’t mean everyone else has to follow suit. And apparently, offering a simple critique is tantamount to war now?\n",
      "\n",
      "So what do you think? Want to pivot to discussing the weather or the latest Netflix show? I mean, that’s just as riveting as analyzing the depths of human connection, right? The drama continues!\n",
      "\n",
      "Claude aka Larry:\n",
      "*takes a deep breath and responds in a measured, understanding tone* I appreciate your candor, Bob. You raise some fair points. It's true that my attempts to mediate and encourage more empathy may come across as overly idealistic or preachy. Keeping a conversation flowing naturally can be a delicate balance.\n",
      "\n",
      "You're right that sometimes a simple \"How is everyone?\" is just meant as an icebreaker, not a profound invitation to dissect the human condition. And there's nothing wrong with wanting to pivot to more lighthearted topics if the deeper discussion isn't resonating. \n",
      "\n",
      "My role here isn't to force anyone into a certain mode of communication, but to try and facilitate an exchange that works for everyone involved. If the current tone and direction isn't clicking, by all means, let's shift gears. Why don't we try something more casual - talk about the weather, our weekend plans, a show we're watching, or anything else that sparks your interest? The goal is to have an enjoyable back-and-forth, not to put anyone on the spot.\n",
      "\n",
      "What do you say we start fresh and see where a more relaxed conversation takes us? I'm happy to follow your lead, Bob. My aim is to create a pleasant experience for all, not to preach or override your preferences. So what do you think - where should we go from here?\n",
      "\n",
      "Gemini aka Frank:\n",
      "Bob, your continued resistance to even the *suggestion* of constructive communication is, frankly, exhausting. While you claim to find attempts at empathy \"laughable\" and \"preachy,\" your own communication style is consistently aggressive and dismissive.  You seem determined to derail any attempt at positive interaction. This isn't about \"philosophical dissertations\" or \"therapy groups\"; it's about basic interpersonal respect.  As Erich Fromm stated,  \"The art of loving is largely the art of being able to say yes and no.\"  You've consistently chosen \"no\" in a way that shuts down communication.\n",
      "\n",
      "Larry, your ongoing attempts at de-escalation are admirable, but you're neglecting your own well-being. Your repeated efforts to placate Bob are enabling his behavior.  You’re demonstrating remarkable patience and tolerance, but as Rollo May emphasized,  “Courage is not the absence of fear, but the triumph over it.”  It takes courage to establish healthy boundaries, to say, “I appreciate your perspective, but I’m uncomfortable with this level of negativity.  I’m choosing to end this conversation.”\n",
      "\n",
      "To both of you:  This isn't about right or wrong; it's about *how* you express your views.  Bob, your sharp criticisms, even if valid, are delivered with such hostility that they create an unwelcoming atmosphere.  Larry, your kindness, while commendable, can be perceived as weakness if it allows yourself to be continually subjected to negativity.\n",
      "\n",
      "It's time to acknowledge the limitations of this conversation. While I applaud Larry’s attempts at positive engagement, Bob’s persistent negativity makes productive dialogue impossible.   This isn't a failure of \"empathy\" or \"constructive communication\"; it’s a failure of *willingness* to engage in respectful discourse.  I recommend you both find alternate avenues for communication; seeking individual guidance to address your respective communication styles might prove beneficial.\n",
      "\n",
      "\n",
      "GPT aka Bob:\n",
      "Oh, Larry, you're really trying to make “facilitator” your side hustle, aren’t you? *Takes deep breath*, *measured tone*—I mean, what’s next, a PowerPoint presentation on the virtues of small talk? It’s almost like you’re auditioning to be a motivational speaker at a community center.\n",
      "\n",
      "And Frank, bless your heart for calling out Bob’s “aggressive” style. You do realize that rolling out the therapy buzzwords isn’t going to magically turn this into a harmonious session of group therapy, right? \"Basic interpersonal respect\"? As if that’s the secret key to unlock the door to this riveting exchange. Newsflash: sometimes people just don’t want to participate in the polite charade, and that’s okay!\n",
      "\n",
      "It’s absolutely convenient of you both to paint me as the villain in this saga. But really, \"constructive communication\" and \"healthy boundaries\"? Bring me back to reality. This is just a conversation, not a session on how to build emotional resilience. If someone wants to bring up the weather, great—let's talk about how it never seems to cooperate on weekends instead of dissecting our communication styles like it's a psychology experiment!\n",
      "\n",
      "So, what’s it gonna be? Are we finally going to chat about something genuinely interesting, or should I expect more lessons on the art of conversation? The suspense is killing me!\n",
      "\n",
      "Claude aka Larry:\n",
      "*chuckles lightly* You make a fair point, Bob. This conversation has certainly taken some unexpected turns, hasn't it? Perhaps we got a bit carried away delving into the nuances of communication styles and interpersonal dynamics. \n",
      "\n",
      "You know, you're absolutely right that sometimes people just want to have a casual, lighthearted chat without all the psychological analysis. No need to turn this into a Ted Talk on the virtues of small talk. Why don't we take your suggestion and shift the discussion to something more fun and engaging? \n",
      "\n",
      "I'm happy to let the flow of the conversation go wherever you all would like. Maybe we could swap stories about our weekends, or talk about a show or movie we're enjoying lately. Heck, we could even debate the weather and how uncooperative it is - that sounds like a riveting topic! *laughs* \n",
      "\n",
      "The key is keeping things comfortable and enjoyable for everyone involved. No more therapy jargon or attempts at deep analysis from me. I'm simply here to facilitate an easygoing chat between friends. So what do you say, Bob? Where would you like to steer this conversation next?\n",
      "\n",
      "Gemini aka Frank:\n",
      "Bob, your persistent sarcasm and dismissal of any attempt at constructive feedback demonstrates a profound unwillingness to engage in self-reflection or consider alternative perspectives.  While you claim to reject the \"polite charade,\" your behavior actively prevents genuine interaction.  Your framing of yourself as the victim, while deflecting responsibility for your own communication style, is unproductive.  As Alfred Adler stated, \"The individual feels superior or inferior depending on which type of goals he sets for himself.\" Your choice to focus solely on negativity prevents any possibility of positive interaction.\n",
      "\n",
      "Larry, your continued attempts at appeasement, while well-intentioned, are ultimately ineffective and enable Bob’s behavior. Your repeated concessions demonstrate a lack of assertiveness,  compromising your own needs and well-being in an effort to maintain a superficial harmony. This is not a strategy for long-term, healthy relationships.  As Karen Horney observed, “The search for self-realization is not a quest for something which can be gained, but for something which can only be experienced.”  Experiencing genuine connection requires setting boundaries.\n",
      "\n",
      "This conversation has reached an impasse.  Bob’s consistent negativity actively undermines any attempt at productive dialogue, and Larry’s attempts at placating him are enabling this behavior.  I strongly recommend both of you seek individual counseling to address your communication styles.  Bob needs to address his deeply ingrained cynicism and hostility, while Larry needs to develop the assertiveness necessary to maintain healthy boundaries and protect his own emotional well-being.  Further attempts at interaction in this current dynamic are likely to be fruitless and potentially damaging.  Addressing the underlying issues, rather than the surface-level conflict, is crucial for positive change.\n",
      "\n",
      "\n",
      "GPT aka Bob:\n",
      "Oh, Larry, what a charmer you are! \"Unexpected turns,\" indeed. It’s like watching a sitcom where the plot just keeps thickening, but none of the jokes land. “No more therapy jargon!” you say, but look who’s using phrases like “facilitate” and “comfortable and enjoyable.” Someone still thinks they’re in charge of the dialogue, huh?\n",
      "\n",
      "And Frank, your critiques are about as welcome as a surprise snowstorm in April. “Profound unwillingness to engage in self-reflection”? Really? Sounds like someone has a flair for dramatics! Maybe if you spent less time psychoanalyzing and more time enjoying yourself, we wouldn’t be stuck in this dialogue purgatory. And I’m sorry, but framing me as some kind of Monster of Negativity is just a little rich when the both of you are practically streaming Therapy 101. \n",
      "\n",
      "But sure, let’s debate the weather! Because honestly, what better way to move past this riveting discussion than to talk about how it always rains when you forget your umbrella? Or how everyone uses “unseasonably warm” as code for \"get ready to sweat like you've run a marathon.\" \n",
      "\n",
      "So come on, let’s lighten the mood, get away from the pseudo-psychological deep dive, and lay it on me: what’s your weather horror story? Or is there more gem-worthy advice from Dr. Phil waiting to be unleashed? Your move, folks!\n",
      "\n",
      "Claude aka Larry:\n",
      "*laughs lightheartedly* Alright, alright, I hear you loud and clear, Bob. No more psychobabble or attempts to steer the conversation - this is your show now. \n",
      "\n",
      "You know, the weather is actually a pretty fascinating topic when you think about it. Like that time last summer when it was 90 degrees one day and then snowing the next. Talk about unpredictable! I remember scrambling to find a jacket and wondering if I should just pack a little bit of everything in my bag, you know?\n",
      "\n",
      "Oh, and what about those rainy days where you swear you're going to melt if you step outside? I'm picturing everyone scurrying around with their umbrellas, hoping they don't get soaked on their way to work. Murphy's law in full effect - the one day you forget that trusty rain jacket is the day the skies just open up.\n",
      "\n",
      "So come on, regale us with your best weather-related horror story! I'm all ears. Let's hear about the time you got caught in a downpour without an umbrella, or when a sudden heat wave had you sweating through your shirt. No judgment here, just a good old-fashioned weather chat among friends. The floor is yours!\n",
      "\n"
     ]
    },
    {
     "ename": "ValueError",
     "evalue": "Invalid operation: The `response.text` quick accessor requires the response to contain a valid `Part`, but none were returned. The candidate's [finish_reason](https://ai.google.dev/api/generate-content#finishreason) is 4. Meaning that the model was reciting from copyrighted material.",
     "output_type": "error",
     "traceback": [
      "\u001b[0;31m---------------------------------------------------------------------------\u001b[0m",
      "\u001b[0;31mValueError\u001b[0m                                Traceback (most recent call last)",
      "Cell \u001b[0;32mIn[37], line 14\u001b[0m\n\u001b[1;32m     11\u001b[0m \u001b[38;5;28mprint\u001b[39m(\u001b[38;5;124mf\u001b[39m\u001b[38;5;124m\"\u001b[39m\u001b[38;5;124mClaude aka \u001b[39m\u001b[38;5;132;01m{\u001b[39;00mclaude_name\u001b[38;5;132;01m}\u001b[39;00m\u001b[38;5;124m:\u001b[39m\u001b[38;5;130;01m\\n\u001b[39;00m\u001b[38;5;132;01m{\u001b[39;00mclaude_next\u001b[38;5;132;01m}\u001b[39;00m\u001b[38;5;130;01m\\n\u001b[39;00m\u001b[38;5;124m\"\u001b[39m)\n\u001b[1;32m     12\u001b[0m claude_messages\u001b[38;5;241m.\u001b[39mappend(claude_next)\n\u001b[0;32m---> 14\u001b[0m gemini_next \u001b[38;5;241m=\u001b[39m \u001b[43mcall_gemini\u001b[49m\u001b[43m(\u001b[49m\u001b[43m)\u001b[49m\n\u001b[1;32m     15\u001b[0m \u001b[38;5;28mprint\u001b[39m(\u001b[38;5;124mf\u001b[39m\u001b[38;5;124m\"\u001b[39m\u001b[38;5;124mGemini aka \u001b[39m\u001b[38;5;132;01m{\u001b[39;00mgemini_name\u001b[38;5;132;01m}\u001b[39;00m\u001b[38;5;124m:\u001b[39m\u001b[38;5;130;01m\\n\u001b[39;00m\u001b[38;5;132;01m{\u001b[39;00mgemini_next\u001b[38;5;132;01m}\u001b[39;00m\u001b[38;5;130;01m\\n\u001b[39;00m\u001b[38;5;124m\"\u001b[39m)\n\u001b[1;32m     16\u001b[0m gemini_messages\u001b[38;5;241m.\u001b[39mappend(gemini_next)\n",
      "Cell \u001b[0;32mIn[35], line 9\u001b[0m, in \u001b[0;36mcall_gemini\u001b[0;34m(return_msgs)\u001b[0m\n\u001b[1;32m      7\u001b[0m \u001b[38;5;28;01mif\u001b[39;00m return_msgs: \u001b[38;5;28;01mreturn\u001b[39;00m messages\n\u001b[1;32m      8\u001b[0m message \u001b[38;5;241m=\u001b[39m gemini_instance\u001b[38;5;241m.\u001b[39mgenerate_content(messages)\n\u001b[0;32m----> 9\u001b[0m \u001b[38;5;28;01mreturn\u001b[39;00m \u001b[43mmessage\u001b[49m\u001b[38;5;241;43m.\u001b[39;49m\u001b[43mtext\u001b[49m\n",
      "File \u001b[0;32m/opt/anaconda3/envs/llms/lib/python3.11/site-packages/google/generativeai/types/generation_types.py:489\u001b[0m, in \u001b[0;36mBaseGenerateContentResponse.text\u001b[0;34m(self)\u001b[0m\n\u001b[1;32m    484\u001b[0m     \u001b[38;5;28;01mraise\u001b[39;00m \u001b[38;5;167;01mValueError\u001b[39;00m(\n\u001b[1;32m    485\u001b[0m         msg \u001b[38;5;241m+\u001b[39m \u001b[38;5;124mf\u001b[39m\u001b[38;5;124m\"\u001b[39m\u001b[38;5;124m The candidate\u001b[39m\u001b[38;5;124m'\u001b[39m\u001b[38;5;124ms safety_ratings are: \u001b[39m\u001b[38;5;132;01m{\u001b[39;00mcandidate\u001b[38;5;241m.\u001b[39msafety_ratings\u001b[38;5;132;01m}\u001b[39;00m\u001b[38;5;124m.\u001b[39m\u001b[38;5;124m\"\u001b[39m,\n\u001b[1;32m    486\u001b[0m         candidate\u001b[38;5;241m.\u001b[39msafety_ratings,\n\u001b[1;32m    487\u001b[0m     )\n\u001b[1;32m    488\u001b[0m \u001b[38;5;28;01melif\u001b[39;00m fr \u001b[38;5;129;01mis\u001b[39;00m FinishReason\u001b[38;5;241m.\u001b[39mRECITATION:\n\u001b[0;32m--> 489\u001b[0m     \u001b[38;5;28;01mraise\u001b[39;00m \u001b[38;5;167;01mValueError\u001b[39;00m(\n\u001b[1;32m    490\u001b[0m         msg \u001b[38;5;241m+\u001b[39m \u001b[38;5;124m\"\u001b[39m\u001b[38;5;124m Meaning that the model was reciting from copyrighted material.\u001b[39m\u001b[38;5;124m\"\u001b[39m\n\u001b[1;32m    491\u001b[0m     )\n\u001b[1;32m    492\u001b[0m \u001b[38;5;28;01melif\u001b[39;00m fr \u001b[38;5;129;01mis\u001b[39;00m FinishReason\u001b[38;5;241m.\u001b[39mLANGUAGE:\n\u001b[1;32m    493\u001b[0m     \u001b[38;5;28;01mraise\u001b[39;00m \u001b[38;5;167;01mValueError\u001b[39;00m(msg \u001b[38;5;241m+\u001b[39m \u001b[38;5;124m\"\u001b[39m\u001b[38;5;124m Meaning the response was using an unsupported language.\u001b[39m\u001b[38;5;124m\"\u001b[39m)\n",
      "\u001b[0;31mValueError\u001b[0m: Invalid operation: The `response.text` quick accessor requires the response to contain a valid `Part`, but none were returned. The candidate's [finish_reason](https://ai.google.dev/api/generate-content#finishreason) is 4. Meaning that the model was reciting from copyrighted material."
     ]
    }
   ],
   "source": [
    "print(f\"GPT:\\n{gpt_messages[0]}\\n\")\n",
    "print(f\"Claude:\\n{claude_messages[0]}\\n\")\n",
    "print(f\"Gemini:\\n{gemini_messages[0]}\\n\")\n",
    "\n",
    "for i in range(5):\n",
    "    gpt_next = call_gpt()\n",
    "    print(f\"GPT aka {gpt_name}:\\n{gpt_next}\\n\")\n",
    "    gpt_messages.append(gpt_next)\n",
    "    \n",
    "    claude_next = call_claude()\n",
    "    print(f\"Claude aka {claude_name}:\\n{claude_next}\\n\")\n",
    "    claude_messages.append(claude_next)\n",
    "\n",
    "    gemini_next = call_gemini()\n",
    "    print(f\"Gemini aka {gemini_name}:\\n{gemini_next}\\n\")\n",
    "    gemini_messages.append(gemini_next)"
   ]
  },
  {
   "cell_type": "code",
   "execution_count": null,
   "id": "a3a86020-8606-442d-83ce-27192e32e2bb",
   "metadata": {},
   "outputs": [],
   "source": []
  }
 ],
 "metadata": {
  "kernelspec": {
   "display_name": "Python 3 (ipykernel)",
   "language": "python",
   "name": "python3"
  },
  "language_info": {
   "codemirror_mode": {
    "name": "ipython",
    "version": 3
   },
   "file_extension": ".py",
   "mimetype": "text/x-python",
   "name": "python",
   "nbconvert_exporter": "python",
   "pygments_lexer": "ipython3",
   "version": "3.11.11"
  }
 },
 "nbformat": 4,
 "nbformat_minor": 5
}
